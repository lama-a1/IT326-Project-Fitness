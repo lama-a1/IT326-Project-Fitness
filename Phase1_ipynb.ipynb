{
  "cells": [
    {
      "cell_type": "markdown",
      "metadata": {
        "id": "view-in-github",
        "colab_type": "text"
      },
      "source": [
        "<a href=\"https://colab.research.google.com/github/lama-a1/IT326-Project-Fitness/blob/main/Phase1_ipynb.ipynb\" target=\"_parent\"><img src=\"https://colab.research.google.com/assets/colab-badge.svg\" alt=\"Open In Colab\"/></a>"
      ]
    },
    {
      "cell_type": "markdown",
      "id": "af1ac943",
      "metadata": {
        "id": "af1ac943"
      },
      "source": [
        "# IT326 Project - Phase1"
      ]
    },
    {
      "cell_type": "markdown",
      "id": "1d780fbc",
      "metadata": {
        "id": "1d780fbc"
      },
      "source": [
        "### Fitness"
      ]
    },
    {
      "cell_type": "markdown",
      "id": "b381929f",
      "metadata": {
        "id": "b381929f"
      },
      "source": [
        "##### Fitness is an important indicator of health and well-being. This dataset contains measurements that help us analyze and predict whether an individual is fit or not fit.Fitness is an important indicator of health and well-being. This dataset contains measurements that help us analyze and predict whether an individual is fit or not fit."
      ]
    },
    {
      "cell_type": "markdown",
      "id": "209c2ee6",
      "metadata": {
        "id": "209c2ee6"
      },
      "source": [
        "### The goal"
      ]
    },
    {
      "cell_type": "markdown",
      "id": "5f482d57",
      "metadata": {
        "id": "5f482d57"
      },
      "source": [
        "##### The goal of this project is to use data mining techniques to explore how various health and lifestyle attributes influence overall fitness. We focus on factors such as age, gender, height, weight, heart rate, blood pressure, sleep, nutrition quality, activity index, and smoking. By applying classification methods, and optionally clustering, we aim to reveal patterns that help predict fitness status."
      ]
    },
    {
      "cell_type": "markdown",
      "id": "2d58c843",
      "metadata": {
        "id": "2d58c843"
      },
      "source": [
        "### General information about the dataset:"
      ]
    },
    {
      "cell_type": "markdown",
      "id": "e91dafdb",
      "metadata": {
        "id": "e91dafdb"
      },
      "source": [
        "##### The dataset contains comprehensive measurements aimed at analyzing fitness and its related factors. It includes various attributes that can be used to study the fitness status of individuals."
      ]
    },
    {
      "cell_type": "code",
      "execution_count": 19,
      "id": "74df10f1",
      "metadata": {
        "colab": {
          "base_uri": "https://localhost:8080/"
        },
        "id": "74df10f1",
        "outputId": "1459b08a-e2e6-44e1-c076-844c6df3cef9"
      },
      "outputs": [
        {
          "output_type": "stream",
          "name": "stdout",
          "text": [
            "\n",
            "\n",
            "\n",
            "------------------------------------\n",
            "Number of attributes: 11\n",
            "------------------------------------\n",
            "\n",
            "Attribute types:\n",
            "                  Data Types\n",
            "age                    int64\n",
            "height_cm              int64\n",
            "weight_kg              int64\n",
            "heart_rate           float64\n",
            "blood_pressure       float64\n",
            "sleep_hours          float64\n",
            "nutrition_quality    float64\n",
            "activity_index       float64\n",
            "smokes                object\n",
            "gender                object\n",
            "is_fit                 int64\n",
            "------------------------------------\n",
            "\n",
            "Number of objects: 2000\n",
            "------------------------------------\n",
            "\n",
            "Class attribute: is_fit\n",
            "is_fit     0    1\n",
            "count   1201  799\n",
            "------------------------------------\n",
            "\n",
            "Sample of the raw dataset:\n",
            "\n",
            " age  height_cm  weight_kg  heart_rate  blood_pressure  sleep_hours  nutrition_quality  activity_index smokes gender  is_fit\n",
            "  56        152         65        69.6           117.0          NaN               2.37            3.97     no      F       1\n",
            "  69        186         95        60.8           114.8          7.5               8.77            3.19      0      F       1\n",
            "  46        192        103        61.4           116.4          NaN               8.20            2.03      0      F       0\n",
            "  32        189         83        60.2           130.1          7.0               6.18            3.68      0      M       1\n",
            "  60        175         99        58.1           115.8          8.0               9.95            4.83    yes      F       1\n",
            "  25        172         85        81.2           119.2          7.7               7.35            4.08    yes      M       0\n",
            "  78        193         83        79.6           132.5          7.4               2.16            3.42    yes      F       0\n",
            "  38        188         57        81.2           110.6          6.6               8.47            4.96      0      M       1\n",
            "  56        164        108        70.1           140.9          9.1               4.15            2.06     no      F       0\n",
            "  75        198         55        67.1           129.5          8.1               0.36            1.25      0      F       0\n"
          ]
        }
      ],
      "source": [
        "import pandas as pd\n",
        "import os\n",
        "\n",
        "df = pd.read_csv('fitness_dataset.csv') if os.path.exists('fitness_dataset.csv') else pd.read_csv('/mnt/data/fitness_dataset.csv')\n",
        "\n",
        "num_attributes = len(df.columns)\n",
        "attribute_types = df.dtypes.to_frame().rename(columns={0: 'Data Types'})\n",
        "num_objects = len(df)\n",
        "class_name = df.columns[-1]\n",
        "\n",
        "print('\\n\\n\\n------------------------------------')\n",
        "print('Number of attributes:', num_attributes)\n",
        "print('------------------------------------')\n",
        "print('\\nAttribute types:')\n",
        "print(attribute_types)\n",
        "print('------------------------------------')\n",
        "print('\\nNumber of objects:', num_objects)\n",
        "\n",
        "print('------------------------------------')\n",
        "print('\\nClass attribute:', class_name)\n",
        "counts = df[class_name].value_counts(dropna=False).sort_index()\n",
        "counts_table = pd.DataFrame([counts.values], columns=counts.index, index=['count'])\n",
        "print(counts_table.to_string())\n",
        "print('------------------------------------')\n",
        "print('\\nSample of the raw dataset:\\n')\n",
        "print(df.head(10).to_string(index=False))"
      ]
    },
    {
      "cell_type": "markdown",
      "metadata": {
        "id": "3MCY3_mZEFbg"
      },
      "source": [
        "### Attributes:\n"
      ],
      "id": "3MCY3_mZEFbg"
    },
    {
      "cell_type": "markdown",
      "id": "44a27358",
      "metadata": {
        "id": "44a27358"
      },
      "source": [
        "####\n",
        " The dataset contains multiple features related to fitness such as:\n",
        "1. age: The age of the individual in years.\n",
        "2. height_cm: The height of the person in centimeters.\n",
        "3. weight_kg: The weight of the person in kilograms..\n",
        "4. heart_rate: Average heart rate (beats per minute).\n",
        "5. blood_pressure: Average blood pressure measurement (systolic/diastolic combined).\n",
        "6. sleep_hours: Average hours of sleep per day.\n",
        "7. nutrition_quality: A score representing the quality of the individual’s nutrition (higher = better diet).\n",
        "8. activity_index: A numeric index that represents the activity or exercise level of the person.\n",
        "9. smokes: Whether the individual smokes (yes, no, or numeric code for non-smoker).\n",
        "10. gender: Gender of the individual (M/F).\n",
        "11. is_fit: Target variable indicating whether the person is fit (1 = fit, 0 = not fit). This is the class attribute used for classification tasks.\n",
        "\n",
        "Data type: The dataset features numeric and categorical variables.\n",
        "\n",
        "Number of records (objects): The dataset consists of approximately 2000 data entries.\n",
        "\n",
        "Class labels: The dataset focuses on detecting whether a person is fit, using 1 \"Fit\" and 0 \"Not Fit\"."
      ]
    },
    {
      "cell_type": "markdown",
      "id": "03b5f470",
      "metadata": {
        "id": "03b5f470"
      },
      "source": [
        "### Source of dataset"
      ]
    },
    {
      "cell_type": "markdown",
      "source": [
        "The source from kaggle.com"
      ],
      "metadata": {
        "id": "3LrcziJmC1-J"
      },
      "id": "3LrcziJmC1-J"
    },
    {
      "cell_type": "markdown",
      "id": "31695efd",
      "metadata": {
        "id": "31695efd"
      },
      "source": [
        "#### https://www.kaggle.com/datasets/muhammedderric/fitness-classification-dataset-synthetic?select=fitness_dataset.csv"
      ]
    }
  ],
  "metadata": {
    "kernelspec": {
      "display_name": "Python (Pyodide)",
      "language": "python",
      "name": "python"
    },
    "language_info": {
      "codemirror_mode": {
        "name": "python",
        "version": 3
      },
      "file_extension": ".py",
      "mimetype": "text/x-python",
      "name": "python",
      "nbconvert_exporter": "python",
      "pygments_lexer": "ipython3",
      "version": "3.8"
    },
    "colab": {
      "provenance": [],
      "include_colab_link": true
    }
  },
  "nbformat": 4,
  "nbformat_minor": 5
}