{
  "cells": [
    {
      "cell_type": "markdown",
      "metadata": {
        "id": "view-in-github",
        "colab_type": "text"
      },
      "source": [
        "<a href=\"https://colab.research.google.com/github/lama-a1/IT326-Project-Fitness/blob/main/Phase1_ipynb.ipynb\" target=\"_parent\"><img src=\"https://colab.research.google.com/assets/colab-badge.svg\" alt=\"Open In Colab\"/></a>"
      ]
    },
    {
      "cell_type": "markdown",
      "id": "af1ac943",
      "metadata": {
        "id": "af1ac943"
      },
      "source": [
        "# IT326 Project - Phase1"
      ]
    },
    {
      "cell_type": "markdown",
      "id": "1d780fbc",
      "metadata": {
        "id": "1d780fbc"
      },
      "source": [
        "### Fitness"
      ]
    },
    {
      "cell_type": "markdown",
      "id": "b381929f",
      "metadata": {
        "id": "b381929f"
      },
      "source": [
        "##### \"Physical fitness reflects the combined effect of lifestyle and health factors. Understanding these factors helps us reason about wellness, risk, and daily performance.\"."
      ]
    },
    {
      "cell_type": "markdown",
      "id": "209c2ee6",
      "metadata": {
        "id": "209c2ee6"
      },
      "source": [
        "### The goal"
      ]
    },
    {
      "cell_type": "markdown",
      "id": "5f482d57",
      "metadata": {
        "id": "5f482d57"
      },
      "source": [
        "##### The goal of this project is to use data mining techniques to study how lifestyle and physiological attributes relate to fitness and how these factors interact. We consider both a classification task that predicts whether a person is fit and an unsupervised grouping of similar wellness profiles. By examining variables such as age, body measures, vital signs, sleep, diet, activity, and habits, we aim to uncover patterns that help evaluate and improve fitness.\n"
      ]
    },
    {
      "cell_type": "markdown",
      "id": "2d58c843",
      "metadata": {
        "id": "2d58c843"
      },
      "source": [
        "### General information about the dataset:"
      ]
    },
    {
      "cell_type": "markdown",
      "id": "e91dafdb",
      "metadata": {
        "id": "e91dafdb"
      },
      "source": [
        "##### The dataset contains wellness attributes that can be used to analyze and predict fitness levels for individuals.\n"
      ]
    },
    {
      "cell_type": "code",
      "execution_count": 1,
      "id": "74df10f1",
      "metadata": {
        "id": "74df10f1"
      },
      "outputs": [],
      "source": [
        "import pandas as pd\n",
        "import os"
      ]
    },
    {
      "cell_type": "code",
      "execution_count": 2,
      "id": "6142cacc",
      "metadata": {
        "id": "6142cacc"
      },
      "outputs": [],
      "source": [
        "df = pd.read_csv('fitness_dataset.csv') if os.path.exists('fitness_dataset.csv') else pd.read_csv('/mnt/data/fitness_dataset.csv')"
      ]
    },
    {
      "cell_type": "code",
      "execution_count": 7,
      "id": "db7a13ae",
      "metadata": {
        "colab": {
          "base_uri": "https://localhost:8080/"
        },
        "id": "db7a13ae",
        "outputId": "240ca0cd-475f-4a47-9cf5-d3ae3928a39b"
      },
      "outputs": [
        {
          "output_type": "stream",
          "name": "stdout",
          "text": [
            "Number of attributes: 11\n",
            "\n",
            "Attribute types:\n",
            "                  Data Types\n",
            "age                    int64\n",
            "height_cm              int64\n",
            "weight_kg              int64\n",
            "heart_rate           float64\n",
            "blood_pressure       float64\n",
            "sleep_hours          float64\n",
            "nutrition_quality    float64\n",
            "activity_index       float64\n",
            "smokes                object\n",
            "gender                object\n",
            "is_fit                 int64\n",
            "\n",
            "Number of objects: 2000\n"
          ]
        }
      ],
      "source": [
        "num_attributes = len(df.columns)\n",
        "attribute_types = df.dtypes.to_frame().rename(columns={0: 'Data Types'})\n",
        "num_objects = len(df)\n",
        "class_name = df.columns[-1]\n",
        "print('Number of attributes:', num_attributes)\n",
        "print('\\nAttribute types:')\n",
        "print(attribute_types)\n",
        "print('\\nNumber of objects:', num_objects)"
      ]
    },
    {
      "cell_type": "code",
      "execution_count": 8,
      "id": "160206dd",
      "metadata": {
        "colab": {
          "base_uri": "https://localhost:8080/"
        },
        "id": "160206dd",
        "outputId": "8ea67470-122d-4da2-f071-5aafbe10223f"
      },
      "outputs": [
        {
          "output_type": "stream",
          "name": "stdout",
          "text": [
            "Class attribute: is_fit\n",
            "is_fit     0    1\n",
            "count   1201  799\n"
          ]
        }
      ],
      "source": [
        "print('Class attribute:', class_name)\n",
        "counts = df[class_name].value_counts(dropna=False).sort_index()\n",
        "counts_table = pd.DataFrame([counts.values], columns=counts.index, index=['count'])\n",
        "print(counts_table.to_string())\n"
      ]
    },
    {
      "cell_type": "code",
      "execution_count": 5,
      "id": "491fb2a0",
      "metadata": {
        "colab": {
          "base_uri": "https://localhost:8080/"
        },
        "id": "491fb2a0",
        "outputId": "784cf84b-ba77-4ebc-82d0-701a52c64da4"
      },
      "outputs": [
        {
          "output_type": "stream",
          "name": "stdout",
          "text": [
            "Sample of the raw dataset:\n",
            " age  height_cm  weight_kg  heart_rate  blood_pressure  sleep_hours  nutrition_quality  activity_index smokes gender  is_fit\n",
            "  56        152         65        69.6           117.0          NaN               2.37            3.97     no      F       1\n",
            "  69        186         95        60.8           114.8          7.5               8.77            3.19      0      F       1\n",
            "  46        192        103        61.4           116.4          NaN               8.20            2.03      0      F       0\n",
            "  32        189         83        60.2           130.1          7.0               6.18            3.68      0      M       1\n",
            "  60        175         99        58.1           115.8          8.0               9.95            4.83    yes      F       1\n",
            "  25        172         85        81.2           119.2          7.7               7.35            4.08    yes      M       0\n",
            "  78        193         83        79.6           132.5          7.4               2.16            3.42    yes      F       0\n",
            "  38        188         57        81.2           110.6          6.6               8.47            4.96      0      M       1\n",
            "  56        164        108        70.1           140.9          9.1               4.15            2.06     no      F       0\n",
            "  75        198         55        67.1           129.5          8.1               0.36            1.25      0      F       0\n"
          ]
        }
      ],
      "source": [
        "print('Sample of the raw dataset:')\n",
        "print(df.head(10).to_string(index=False))"
      ]
    },
    {
      "cell_type": "markdown",
      "id": "44a27358",
      "metadata": {
        "id": "44a27358"
      },
      "source": [
        "####\n",
        "Attributes: The dataset contains multiple features related to fitness such as:\n",
        "1. age: Age in years.\n",
        "2. height_cm: Height in centimeters.\n",
        "3. weight_kg: Weight in kilograms.\n",
        "4. heart_rate: Resting heart rate (beats per minute).\n",
        "5. blood_pressure: Systolic blood pressure.\n",
        "6. sleep_hours: Average sleep duration per night.\n",
        "7. nutrition_quality: Diet quality score on a numeric scale.\n",
        "8. activity_index: Physical activity index on a numeric scale.\n",
        "9. smokes: Smoking status indicator.\n",
        "10. gender: Reported gender.\n",
        "11. is_fit: Binary target label indicating fitness status (1 fit, 0 not fit).\n",
        "\n",
        "Data type: The dataset features numeric and categorical variables.\n",
        "\n",
        "Number of records (objects): The dataset consists of approximately 2000 data entries.\n",
        "\n",
        "Class labels: The dataset focuses on detecting whether a person is fit, using 1 \"Fit\" and 0 \"Not Fit\"."
      ]
    },
    {
      "cell_type": "markdown",
      "id": "03b5f470",
      "metadata": {
        "id": "03b5f470"
      },
      "source": [
        "### Source of dataset"
      ]
    },
    {
      "cell_type": "markdown",
      "id": "31695efd",
      "metadata": {
        "id": "31695efd"
      },
      "source": [
        "###### https://www.kaggle.com/datasets"
      ]
    }
  ],
  "metadata": {
    "kernelspec": {
      "display_name": "Python (Pyodide)",
      "language": "python",
      "name": "python"
    },
    "language_info": {
      "codemirror_mode": {
        "name": "python",
        "version": 3
      },
      "file_extension": ".py",
      "mimetype": "text/x-python",
      "name": "python",
      "nbconvert_exporter": "python",
      "pygments_lexer": "ipython3",
      "version": "3.8"
    },
    "colab": {
      "provenance": [],
      "include_colab_link": true
    }
  },
  "nbformat": 4,
  "nbformat_minor": 5
}