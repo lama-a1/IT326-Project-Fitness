{
  "cells": [
    {
      "cell_type": "markdown",
      "metadata": {
        "id": "view-in-github",
        "colab_type": "text"
      },
      "source": [
        "<a href=\"https://colab.research.google.com/github/lama-a1/IT326-Project-Fitness/blob/main/Phase1_fitness.ipynb\" target=\"_parent\"><img src=\"https://colab.research.google.com/assets/colab-badge.svg\" alt=\"Open In Colab\"/></a>"
      ]
    },
    {
      "cell_type": "markdown",
      "id": "55ff5633",
      "metadata": {
        "id": "55ff5633"
      },
      "source": [
        "# IT326 Project - Phase1"
      ]
    },
    {
      "cell_type": "markdown",
      "id": "4abdf611",
      "metadata": {
        "id": "4abdf611"
      },
      "source": [
        "### Fitness"
      ]
    },
    {
      "cell_type": "markdown",
      "id": "e77fc561",
      "metadata": {
        "id": "e77fc561"
      },
      "source": [
        "##### \"Physical fitness reflects the combined effect of lifestyle and health factors. Understanding these factors helps us reason about wellness, risk, and daily performance.\"."
      ]
    },
    {
      "cell_type": "markdown",
      "id": "608378ab",
      "metadata": {
        "id": "608378ab"
      },
      "source": [
        "### The goal"
      ]
    },
    {
      "cell_type": "markdown",
      "id": "70a2c408",
      "metadata": {
        "id": "70a2c408"
      },
      "source": [
        "##### The goal of this project is to use data mining techniques to study how lifestyle and physiological attributes relate to fitness and how these factors interact. We consider both a classification task that predicts whether a person is fit and an unsupervised grouping of similar wellness profiles. By examining variables such as age, body measures, vital signs, sleep, diet, activity, and habits, we aim to uncover patterns that help evaluate and improve fitness.\n"
      ]
    },
    {
      "cell_type": "markdown",
      "id": "b395400f",
      "metadata": {
        "id": "b395400f"
      },
      "source": [
        "### General information about the dataset:"
      ]
    },
    {
      "cell_type": "markdown",
      "id": "9f4a76dd",
      "metadata": {
        "id": "9f4a76dd"
      },
      "source": [
        "##### The dataset contains wellness attributes that can be used to analyze and predict fitness levels for individuals.\n"
      ]
    },
    {
      "cell_type": "code",
      "execution_count": 1,
      "id": "4c3f2df4",
      "metadata": {
        "id": "4c3f2df4"
      },
      "outputs": [],
      "source": [
        "import pandas as pd"
      ]
    },
    {
      "cell_type": "code",
      "execution_count": 3,
      "id": "43d51de5",
      "metadata": {
        "id": "43d51de5"
      },
      "outputs": [],
      "source": [
        "import os\n",
        "df = pd.read_csv('fitness_dataset.csv') if os.path.exists('fitness_dataset.csv') else pd.read_csv('/mnt/data/fitness_dataset.csv')"
      ]
    },
    {
      "cell_type": "code",
      "execution_count": 4,
      "id": "353f0b43",
      "metadata": {
        "colab": {
          "base_uri": "https://localhost:8080/"
        },
        "id": "353f0b43",
        "outputId": "5f5d2c31-8321-4827-e6df-533b88c1865c"
      },
      "outputs": [
        {
          "output_type": "stream",
          "name": "stdout",
          "text": [
            "\u001b[1mNumber of attributes:\u001b[0m 11\n",
            "\n",
            "\n",
            "\u001b[1mAttribute types:\u001b[0m\n",
            "                  Data Types\n",
            "age                    int64\n",
            "height_cm              int64\n",
            "weight_kg              int64\n",
            "heart_rate           float64\n",
            "blood_pressure       float64\n",
            "sleep_hours          float64\n",
            "nutrition_quality    float64\n",
            "activity_index       float64\n",
            "smokes                object\n",
            "gender                object\n",
            "is_fit                 int64\n",
            "\n",
            "\n",
            "\u001b[1mNumber of objects:\u001b[0m 2000\n",
            "\n",
            "\n"
          ]
        }
      ],
      "source": [
        "num_attributes = len(df.columns)\n",
        "attribute_types = df.dtypes.to_frame().rename(columns={0: 'Data Types'})\n",
        "num_objects = len(df)\n",
        "class_name = df.columns[-1]\n",
        "text3= \"Number of attributes:\"\n",
        "bold_text3 = \"\\033[1m\" + text3 + \"\\033[0m\"\n",
        "print(bold_text3, num_attributes)\n",
        "print(\"\\n\")\n",
        "text4= \"Attribute types:\"\n",
        "bold_text4 = \"\\033[1m\" + text4 + \"\\033[0m\"\n",
        "print(bold_text4)\n",
        "print(attribute_types)\n",
        "print(\"\\n\")\n",
        "text5= \"Number of objects:\"\n",
        "bold_text5 = \"\\033[1m\" + text5 + \"\\033[0m\"\n",
        "print(bold_text5, num_objects)\n",
        "print(\"\\n\")"
      ]
    },
    {
      "cell_type": "markdown",
      "id": "6b59d405",
      "metadata": {
        "id": "6b59d405"
      },
      "source": [
        "####\n",
        "Attributes: The dataset contains multiple features related to fitness such as:\n",
        "1. age: Age in years.\n",
        "2. height_cm: Height in centimeters.\n",
        "3. weight_kg: Weight in kilograms.\n",
        "4. heart_rate: Resting heart rate (beats per minute).\n",
        "5. blood_pressure: Systolic blood pressure.\n",
        "6. sleep_hours: Average sleep duration per night.\n",
        "7. nutrition_quality: Diet quality score on a numeric scale.\n",
        "8. activity_index: Physical activity index on a numeric scale.\n",
        "9. smokes: Smoking status indicator.\n",
        "10. gender: Reported gender.\n",
        "11. is_fit: Binary target label indicating fitness status (1 fit, 0 not fit).\n",
        "\n",
        "Data type: The dataset features numeric and categorical variables.\n",
        "\n",
        "Number of records (objects): The dataset consists of approximately 2000 data entries.\n",
        "\n",
        "Class labels: The dataset focuses on detecting whether a person is fit, using 1 \"Fit\" and 0 \"Not Fit\"."
      ]
    },
    {
      "cell_type": "markdown",
      "id": "c42d3f09",
      "metadata": {
        "id": "c42d3f09"
      },
      "source": [
        "### Source of dataset"
      ]
    },
    {
      "cell_type": "markdown",
      "id": "defa984d",
      "metadata": {
        "id": "defa984d"
      },
      "source": [
        "###### https://www.kaggle.com/datasets"
      ]
    }
  ],
  "metadata": {
    "kernelspec": {
      "display_name": "Python (Pyodide)",
      "language": "python",
      "name": "python"
    },
    "language_info": {
      "codemirror_mode": {
        "name": "python",
        "version": 3
      },
      "file_extension": ".py",
      "mimetype": "text/x-python",
      "name": "python",
      "nbconvert_exporter": "python",
      "pygments_lexer": "ipython3",
      "version": "3.8"
    },
    "colab": {
      "provenance": [],
      "include_colab_link": true
    }
  },
  "nbformat": 4,
  "nbformat_minor": 5
}